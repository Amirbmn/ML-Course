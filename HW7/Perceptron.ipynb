{
 "cells": [
  {
   "cell_type": "code",
   "execution_count": 1,
   "id": "ee4d3144",
   "metadata": {},
   "outputs": [
    {
     "name": "stdout",
     "output_type": "stream",
     "text": [
      "Accuracy: 0.95\n"
     ]
    }
   ],
   "source": [
    "from ucimlrepo import fetch_ucirepo\n",
    "import pandas as pd\n",
    "import numpy as np\n",
    "from sklearn.model_selection import train_test_split\n",
    "\n",
    "\n",
    "occupancy_detection = fetch_ucirepo(id=357)\n",
    "\n",
    "\n",
    "X = occupancy_detection.data.features.drop(columns='date')  \n",
    "y = occupancy_detection.data.targets\n",
    "\n",
    "\n",
    "data = pd.concat([X, y], axis=1)\n",
    "data = data.dropna(subset=[y.columns[0]])\n",
    "\n",
    "\n",
    "X = data.drop(columns=y.columns[0]).values.astype(float)\n",
    "y = data[y.columns[0]].values.astype(int)\n",
    "\n",
    "\n",
    "x_train, x_test, y_train, y_test = train_test_split(\n",
    "    X, y, test_size=0.2, random_state=42\n",
    ")\n",
    "\n",
    "\n",
    "def step_function(x):\n",
    "    return 1 if x >= 0 else 0\n",
    "\n",
    "\n",
    "class Perceptron:\n",
    "    def __init__(self, input_size, learning_rate=0.1):\n",
    "        self.weights = np.zeros(input_size)\n",
    "        self.bias = 0\n",
    "        self.learning_rate = learning_rate\n",
    "\n",
    "    def predict(self, x):\n",
    "        total = np.dot(x, self.weights) + self.bias\n",
    "        return step_function(total)\n",
    "    \n",
    "    def train(self, X, Y, epochs=100):\n",
    "      \n",
    "            for xi, yi in zip(X, Y):\n",
    "                pred = self.predict(xi)\n",
    "                error = yi - pred\n",
    "                self.weights += self.learning_rate * error * xi\n",
    "                self.bias += self.learning_rate * error\n",
    "\n",
    "\n",
    "model = Perceptron(input_size=X.shape[1], learning_rate=0.1)\n",
    "model.train(x_train, y_train, epochs=10000)\n",
    "\n",
    "\n",
    "correct = 0\n",
    "for xi, yi in zip(x_test, y_test):\n",
    "    pred = model.predict(xi)  \n",
    "    if pred == yi:\n",
    "        correct += 1\n",
    "\n",
    "accuracy=correct/len(y_test)\n",
    "\n",
    "print(f\"Accuracy: {accuracy:.2f}\")\n"
   ]
  }
 ],
 "metadata": {
  "kernelspec": {
   "display_name": "Python 3",
   "language": "python",
   "name": "python3"
  },
  "language_info": {
   "codemirror_mode": {
    "name": "ipython",
    "version": 3
   },
   "file_extension": ".py",
   "mimetype": "text/x-python",
   "name": "python",
   "nbconvert_exporter": "python",
   "pygments_lexer": "ipython3",
   "version": "3.11.5"
  }
 },
 "nbformat": 4,
 "nbformat_minor": 5
}
