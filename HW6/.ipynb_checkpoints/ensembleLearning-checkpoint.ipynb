{
 "cells": [
  {
   "cell_type": "code",
   "execution_count": 21,
   "id": "3e0ef822",
   "metadata": {},
   "outputs": [
    {
     "name": "stdout",
     "output_type": "stream",
     "text": [
      "      Passengerid   Age      Fare  Sex  sibsp  Parch  Pclass  Embarked  \\\n",
      "0               1  22.0    7.2500    0      1      0       3       2.0   \n",
      "1               2  38.0   71.2833    1      1      0       1       0.0   \n",
      "2               3  26.0    7.9250    1      0      0       3       2.0   \n",
      "3               4  35.0   53.1000    1      1      0       1       2.0   \n",
      "4               5  35.0    8.0500    0      0      0       3       2.0   \n",
      "...           ...   ...       ...  ...    ...    ...     ...       ...   \n",
      "1304         1305  28.0    8.0500    0      0      0       3       2.0   \n",
      "1305         1306  39.0  108.9000    1      0      0       1       0.0   \n",
      "1306         1307  38.5    7.2500    0      0      0       3       2.0   \n",
      "1307         1308  28.0    8.0500    0      0      0       3       2.0   \n",
      "1308         1309  28.0   22.3583    0      1      1       3       0.0   \n",
      "\n",
      "      2urvived  \n",
      "0            0  \n",
      "1            1  \n",
      "2            1  \n",
      "3            1  \n",
      "4            0  \n",
      "...        ...  \n",
      "1304         0  \n",
      "1305         0  \n",
      "1306         0  \n",
      "1307         0  \n",
      "1308         0  \n",
      "\n",
      "[1309 rows x 9 columns]\n"
     ]
    }
   ],
   "source": [
    "import pandas as pd\n",
    "\n",
    "data = pd.read_csv('train_and_test2.csv')\n",
    "data=data.drop(columns=['zero'])\n",
    "for i in range (1,19):\n",
    "  data=data.drop(columns=[f'zero.{i}'])\n",
    "print(data)\n"
   ]
  }
 ],
 "metadata": {
  "kernelspec": {
   "display_name": "base",
   "language": "python",
   "name": "python3"
  },
  "language_info": {
   "codemirror_mode": {
    "name": "ipython",
    "version": 3
   },
   "file_extension": ".py",
   "mimetype": "text/x-python",
   "name": "python",
   "nbconvert_exporter": "python",
   "pygments_lexer": "ipython3",
   "version": "3.12.4"
  }
 },
 "nbformat": 4,
 "nbformat_minor": 5
}
